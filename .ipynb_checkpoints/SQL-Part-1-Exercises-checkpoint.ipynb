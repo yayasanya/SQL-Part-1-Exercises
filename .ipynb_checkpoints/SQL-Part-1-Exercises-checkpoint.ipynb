{
 "cells": [
  {
   "cell_type": "markdown",
   "metadata": {
    "azdata_cell_guid": "b9034d8a-b631-48bf-a895-1012a6ffa784"
   },
   "source": [
    "# SQL Part 1 Exercises\n",
    "\n",
    "## The Goodbooks-10k dataset\n",
    "\n",
    "- The dataset can be found here: [goodbooks-10k](https://www.kaggle.com/zygmunt/goodbooks-10k)\n",
    "- You can access the **BooksDB** in the Launchcode server.\n",
    "\n",
    "### Getting Started\n",
    "\n",
    "- This dataset has 5 tables. We are going to use the exercises to explore each table and practice SQL syntax.\n",
    "- We will be covering the following commands with our tables:\n",
    "    - **SELECT**, **FROM**, **\\***, **TOP**, **LIKE**, **%** (the wildcard), **IN**, **BETWEEN**, **ORDER BY**, **AS**, **ASC,** **DESC**, **DISTINCT**, **LIMIT**, **WHERE**, **GROUP BY**, Aggregation, and Arithmetic Operators"
   ]
  },
  {
   "cell_type": "markdown",
   "metadata": {
    "azdata_cell_guid": "6e55eb1c-4a14-4076-90d2-95ed17a6309f"
   },
   "source": [
    "# A. The **Books** Table\n",
    "\n",
    "### Column Context\n",
    "\n",
    "- **id** = instance of a book (ie: the top 10k books in some order)\n",
    "- **book\\_id** = the instance of the book in the Goodreads database\n",
    "    - [https://www.goodreads.com/book/show/3.Harry\\_Potter\\_and\\_the\\_Sorcerer\\_s\\_Stone](https://www.goodreads.com/book/show/3.Harry_Potter_and_the_Sorcerer_s_Stone)\n",
    "- **best\\_book\\_id** = is the most popular edition for a given work. Generally, it's the same as **goodreads\\_book\\_id** but differs occasionally\n",
    "    - [https://www.goodreads.com/book/show/3.Harry\\_Potter\\_and\\_the\\_Sorcerer\\_s\\_Stone](https://www.goodreads.com/book/show/3.Harry_Potter_and_the_Sorcerer_s_Stone)\n",
    "- **work\\_id** =  [Work IDs](https://help.goodreads.com/s/article/What-s-a-Work-ID-and-where-can-I-find-it) are unique identification numbers that represent books in the Goodreads catalog.  Work view holds collections of quotes collected by users for this edition/version.\n",
    "    - [https://www.goodreads.com/work/quotes/4640799-harry-potter-and-the-philosopher-s-stone](https://www.goodreads.com/work/quotes/4640799-harry-potter-and-the-philosopher-s-stone) \n",
    "- **books\\_count** = is the number of editions for a given work\n",
    "- **isbn** = International Standard Book Number, or a [book's unique identifier](https://en.wikipedia.org/wiki/International_Standard_Book_Number#How_ISBNs_are_issued)\n",
    "- **isbn13** = 13 digit long isbn issued after 2007.  The [GS1](https://en.wikipedia.org/wiki/GS1)  prefix currently is 978 or 979\n",
    "- **authors** = the first entry is who wrote the book, followed by illustrators, contributors, translators, etc\n",
    "- **original\\_publication\\_year** = when the book was first published\n",
    "- **originial\\_title** = the original title the book was given. This could be the title in the book's original language, the title of the book in a series, etc.\n",
    "- **title** = The title after translating and its location in a series, including the series name and the book's position in the series.\n",
    "- **language\\_code** = what language the book was in when this data was scraped\n",
    "- **average\\_rating** = On Goodreads, this average is [calculated](https://help.goodreads.com/s/article/As-an-author-how-is-the-average-rating-of-my-books-calculated#:~:text=On%20Goodreads%2C%20this%20average%20is,the%20total%20number%20of%20ratings.) as the sum of all of the author's book ratings divided by the total number of ratings.\n",
    "- **ratings\\_count** = total number of ratings\n",
    "- **work\\_ratings** = likes for each quote? or likes for this edition??\n",
    "- **work\\_text\\_reviews\\_count** = number of text reviews for each book.\n",
    "- **ratings\\_1** = number of 1 star reviews\n",
    "- **ratings\\_2** = number of 2 star reviews\n",
    "- **ratings\\_3** = number of 3 star reviews\n",
    "- **ratings\\_4** = number of 4 star reviews\n",
    "- **ratings\\_5** = number of 5 star reviews\n",
    "- **image\\_url** = cover image\n",
    "- **small\\_image\\_url** = thumbnail image of cover"
   ]
  },
  {
   "cell_type": "markdown",
   "metadata": {
    "azdata_cell_guid": "766bdbf5-9b53-45b8-8306-c5a1e5205b1d"
   },
   "source": [
    "QUESTION 1: Select the [top 1000 rows](https://www.w3schools.com/sql/sql\\_top.asp) from the books table.  Make sure you are able to see all of the columns."
   ]
  },
  {
   "cell_type": "code",
   "execution_count": 17,
   "metadata": {
    "azdata_cell_guid": "3210add6-db07-494f-8b52-66aaf5f20f71",
    "tags": []
   },
   "outputs": [
    {
     "data": {
      "text/html": [
       "Commands completed successfully."
      ]
     },
     "metadata": {},
     "output_type": "display_data"
    },
    {
     "data": {
      "text/html": [
       "Total execution time: 00:00:00.050"
      ]
     },
     "metadata": {},
     "output_type": "display_data"
    }
   ],
   "source": [
    "-- Code Here:\n"
   ]
  },
  {
   "cell_type": "markdown",
   "metadata": {
    "azdata_cell_guid": "d220c097-e9cf-4edd-9abe-312d071217b7"
   },
   "source": [
    "QUESTION 2: Count the number of titles.  Are there 10,000 titles as promised by the dataset?"
   ]
  },
  {
   "cell_type": "code",
   "execution_count": 18,
   "metadata": {
    "azdata_cell_guid": "470b0ca4-9a32-4b46-a42e-bbb645101769",
    "tags": []
   },
   "outputs": [
    {
     "data": {
      "text/html": [
       "Commands completed successfully."
      ]
     },
     "metadata": {},
     "output_type": "display_data"
    },
    {
     "data": {
      "text/html": [
       "Total execution time: 00:00:00.058"
      ]
     },
     "metadata": {},
     "output_type": "display_data"
    }
   ],
   "source": [
    "-- Code Here:\n"
   ]
  },
  {
   "cell_type": "markdown",
   "metadata": {
    "azdata_cell_guid": "d3ff6625-6752-4cfe-988f-5b5ada35c311"
   },
   "source": [
    "QUESTION 3: Count the number of books where the original\\_publication\\_year is earlier than 1800."
   ]
  },
  {
   "cell_type": "code",
   "execution_count": 19,
   "metadata": {
    "azdata_cell_guid": "fa19b188-8b73-480e-9eef-5e277bc8c0c2"
   },
   "outputs": [
    {
     "data": {
      "text/html": [
       "Commands completed successfully."
      ]
     },
     "metadata": {},
     "output_type": "display_data"
    },
    {
     "data": {
      "text/html": [
       "Total execution time: 00:00:00.058"
      ]
     },
     "metadata": {},
     "output_type": "display_data"
    }
   ],
   "source": [
    "-- Code Here:\n"
   ]
  },
  {
   "cell_type": "markdown",
   "metadata": {
    "azdata_cell_guid": "20d9ae62-2db9-458b-8ab5-7931bab147b9"
   },
   "source": [
    "QUESTION 4: Create a query that displays distinct authors from the table."
   ]
  },
  {
   "cell_type": "code",
   "execution_count": 20,
   "metadata": {
    "azdata_cell_guid": "a014772c-c1fa-4d2e-8590-4452de6b3fbd"
   },
   "outputs": [
    {
     "data": {
      "text/html": [
       "Commands completed successfully."
      ]
     },
     "metadata": {},
     "output_type": "display_data"
    },
    {
     "data": {
      "text/html": [
       "Total execution time: 00:00:00.049"
      ]
     },
     "metadata": {},
     "output_type": "display_data"
    }
   ],
   "source": [
    "-- Code Here:\n"
   ]
  },
  {
   "cell_type": "markdown",
   "metadata": {
    "azdata_cell_guid": "aa53707c-7489-4fa4-b72f-eabe6f02596a"
   },
   "source": [
    "QUESTION 5: Create a query that displays a count of all the books that contain a language code for English.  This could be represented in the table as \"eng\" or \"en-\"."
   ]
  },
  {
   "cell_type": "code",
   "execution_count": 21,
   "metadata": {
    "azdata_cell_guid": "1ad1e38a-485c-4b1f-bf19-36b893324a2d",
    "tags": []
   },
   "outputs": [
    {
     "data": {
      "text/html": [
       "Commands completed successfully."
      ]
     },
     "metadata": {},
     "output_type": "display_data"
    },
    {
     "data": {
      "text/html": [
       "Total execution time: 00:00:00.052"
      ]
     },
     "metadata": {},
     "output_type": "display_data"
    }
   ],
   "source": [
    "-- Code Here:\n"
   ]
  },
  {
   "cell_type": "markdown",
   "metadata": {
    "azdata_cell_guid": "27b6d88f-4ce2-492f-9b42-7b0c543eba40"
   },
   "source": [
    "QUESTION 6: Create a query to check how many original titles were written during World War I era (1914-1921)."
   ]
  },
  {
   "cell_type": "code",
   "execution_count": 22,
   "metadata": {
    "azdata_cell_guid": "83177ce2-b50d-4056-96f6-02b9b11e608d",
    "tags": []
   },
   "outputs": [
    {
     "data": {
      "text/html": [
       "Commands completed successfully."
      ]
     },
     "metadata": {},
     "output_type": "display_data"
    },
    {
     "data": {
      "text/html": [
       "Total execution time: 00:00:00.082"
      ]
     },
     "metadata": {},
     "output_type": "display_data"
    }
   ],
   "source": [
    "-- Code Here:\n"
   ]
  },
  {
   "cell_type": "markdown",
   "metadata": {
    "azdata_cell_guid": "3eaf376d-9de3-4553-a9d0-9caf74ee3d6a"
   },
   "source": [
    "# B. The **Book Tags** Table\n",
    "\n",
    "### Column Context\n",
    "\n",
    "- **goodreads\\_book\\_id** = the id of the book\n",
    "- **tag\\_id** = matches to a specific tag that can be found in the _tags_ table.\n",
    "- **count** = the number of times this tag was used for this book."
   ]
  },
  {
   "cell_type": "markdown",
   "metadata": {
    "azdata_cell_guid": "e3e010f9-f13a-400b-a424-5374ecab1065"
   },
   "source": [
    "QUESTION 1: SELECT the TOP 1000 table items ordered by the *tag_id*"
   ]
  },
  {
   "cell_type": "code",
   "execution_count": 23,
   "metadata": {
    "azdata_cell_guid": "7b5a0b83-6942-4a41-a224-ac6e14668a72",
    "tags": []
   },
   "outputs": [
    {
     "data": {
      "text/html": [
       "Commands completed successfully."
      ]
     },
     "metadata": {},
     "output_type": "display_data"
    },
    {
     "data": {
      "text/html": [
       "Total execution time: 00:00:00.060"
      ]
     },
     "metadata": {},
     "output_type": "display_data"
    }
   ],
   "source": [
    "-- Code Here:\n"
   ]
  },
  {
   "cell_type": "markdown",
   "metadata": {
    "azdata_cell_guid": "a21eee27-6694-4ffc-a16b-ae266a85b0aa"
   },
   "source": [
    "QUESTION 2: Create a query that counts the number of *goodreads_book_id* grouped by the *tag_id*."
   ]
  },
  {
   "cell_type": "code",
   "execution_count": 24,
   "metadata": {
    "azdata_cell_guid": "e2882ce6-2bca-4e9a-86c9-690c475afb6c"
   },
   "outputs": [
    {
     "data": {
      "text/html": [
       "Commands completed successfully."
      ]
     },
     "metadata": {},
     "output_type": "display_data"
    },
    {
     "data": {
      "text/html": [
       "Total execution time: 00:00:00.061"
      ]
     },
     "metadata": {},
     "output_type": "display_data"
    }
   ],
   "source": [
    "--- Code Here:\n"
   ]
  },
  {
   "cell_type": "markdown",
   "metadata": {
    "azdata_cell_guid": "8480fd60-7e80-4c17-9f5b-c08a6b06ed83"
   },
   "source": [
    "QUESTION 3: In the last query, we created a new, unnamed column.  Using **AS** create an alias to provide a name of your choice to this new column."
   ]
  },
  {
   "cell_type": "code",
   "execution_count": 25,
   "metadata": {
    "azdata_cell_guid": "7d8119b9-fa3e-49f2-ac7d-aa9be46771c6"
   },
   "outputs": [
    {
     "data": {
      "text/html": [
       "Commands completed successfully."
      ]
     },
     "metadata": {},
     "output_type": "display_data"
    },
    {
     "data": {
      "text/html": [
       "Total execution time: 00:00:00.054"
      ]
     },
     "metadata": {},
     "output_type": "display_data"
    }
   ],
   "source": [
    "-- Code Here:\n"
   ]
  },
  {
   "cell_type": "markdown",
   "metadata": {
    "azdata_cell_guid": "1ba1363a-4f02-4962-a95a-93b80c5926b1"
   },
   "source": [
    "# C. The **Ratings** Table\n",
    "\n",
    "### Column Context\n",
    "\n",
    "- **book\\_id** = the identifier of the book\n",
    "- **user\\_id** = the identifier of the user who gave a rating\n",
    "- **rating** = the rating given by the user to the book"
   ]
  },
  {
   "cell_type": "markdown",
   "metadata": {
    "azdata_cell_guid": "bbe07263-5f3e-44f2-b424-9e1899034cac"
   },
   "source": [
    "QUESTION 1: Create a query that displays the top 1000 items in the table in descending order."
   ]
  },
  {
   "cell_type": "code",
   "execution_count": 26,
   "metadata": {
    "azdata_cell_guid": "f08cd55a-b073-4baf-a983-9916111a77e2"
   },
   "outputs": [
    {
     "data": {
      "text/html": [
       "Commands completed successfully."
      ]
     },
     "metadata": {},
     "output_type": "display_data"
    },
    {
     "data": {
      "text/html": [
       "Total execution time: 00:00:00.059"
      ]
     },
     "metadata": {},
     "output_type": "display_data"
    }
   ],
   "source": [
    "-- Code Here:\n"
   ]
  },
  {
   "cell_type": "markdown",
   "metadata": {
    "azdata_cell_guid": "68291b2c-bbe7-4ae4-83f0-69602a80f193"
   },
   "source": [
    "QUESTION 2: Create a query that returns the total number of users that have given a rating of less than 2."
   ]
  },
  {
   "cell_type": "code",
   "execution_count": 27,
   "metadata": {
    "azdata_cell_guid": "d8655800-30a4-42ec-a77b-e5ea1ce71160",
    "tags": []
   },
   "outputs": [
    {
     "data": {
      "text/html": [
       "Commands completed successfully."
      ]
     },
     "metadata": {},
     "output_type": "display_data"
    },
    {
     "data": {
      "text/html": [
       "Total execution time: 00:00:00.087"
      ]
     },
     "metadata": {},
     "output_type": "display_data"
    }
   ],
   "source": [
    "-- Code Here:\n"
   ]
  },
  {
   "cell_type": "markdown",
   "metadata": {
    "azdata_cell_guid": "2a79805b-4b83-4b90-a74d-0dbdcb2c2e63"
   },
   "source": [
    "QUESTION 3: Create a query that returns the sum of books that have a rating of 4 or higher."
   ]
  },
  {
   "cell_type": "code",
   "execution_count": 28,
   "metadata": {
    "azdata_cell_guid": "4c87ad35-caa6-43c2-b86d-dd32076294df",
    "tags": []
   },
   "outputs": [
    {
     "data": {
      "text/html": [
       "Commands completed successfully."
      ]
     },
     "metadata": {},
     "output_type": "display_data"
    },
    {
     "data": {
      "text/html": [
       "Total execution time: 00:00:00.052"
      ]
     },
     "metadata": {},
     "output_type": "display_data"
    }
   ],
   "source": [
    "-- Code Here:\n"
   ]
  },
  {
   "cell_type": "markdown",
   "metadata": {
    "azdata_cell_guid": "8e5b1010-5e77-412f-8993-f643878c7362"
   },
   "source": [
    "# D. The **Tags** Table\n",
    "\n",
    "### Column Context\n",
    "\n",
    "- **tag\\_id** = the identifier of the specific tag \n",
    "- **tag\\_name** = a tag created by users when creating reviews"
   ]
  },
  {
   "cell_type": "markdown",
   "metadata": {
    "azdata_cell_guid": "a14e2911-3c58-485a-8f1a-50601b3923f8"
   },
   "source": [
    "QUESTION 1: Create a query that returns table items where the _tag\\_name_ describes the book as a mystery.\n",
    "\n",
    "Hint: Use the wildcard to find the word mystery at the beginning, middle, and end of a _tag\\_name_"
   ]
  },
  {
   "cell_type": "code",
   "execution_count": 29,
   "metadata": {
    "azdata_cell_guid": "6d343418-1a36-4055-9261-08843c9a1793",
    "tags": []
   },
   "outputs": [
    {
     "data": {
      "text/html": [
       "Commands completed successfully."
      ]
     },
     "metadata": {},
     "output_type": "display_data"
    },
    {
     "data": {
      "text/html": [
       "Total execution time: 00:00:00.066"
      ]
     },
     "metadata": {},
     "output_type": "display_data"
    }
   ],
   "source": [
    "-- Code Here:\n",
    "    "
   ]
  },
  {
   "cell_type": "markdown",
   "metadata": {
    "azdata_cell_guid": "731473a8-06d3-4b7e-91ad-c9cc8883b864"
   },
   "source": [
    "QUESTION 2: Run the query below.  In your own words, what is it returning?"
   ]
  },
  {
   "cell_type": "code",
   "execution_count": 30,
   "metadata": {
    "azdata_cell_guid": "5543e056-84c7-40b2-9f98-903b8bfa2a73"
   },
   "outputs": [
    {
     "data": {
      "text/html": [
       "Commands completed successfully."
      ]
     },
     "metadata": {},
     "output_type": "display_data"
    },
    {
     "data": {
      "text/html": [
       "Total execution time: 00:00:00.056"
      ]
     },
     "metadata": {},
     "output_type": "display_data"
    }
   ],
   "source": [
    "-- SELECT * \n",
    "    -- FROM BooksDB.dbo.tags\n",
    "    -- WHERE tag_name < 'd' AND tag_name >= 'c';"
   ]
  },
  {
   "cell_type": "markdown",
   "metadata": {
    "azdata_cell_guid": "12729d8f-4ce4-45b1-8b55-f25a498064d9"
   },
   "source": [
    "YOUR ANSWER:"
   ]
  },
  {
   "cell_type": "markdown",
   "metadata": {
    "azdata_cell_guid": "4c91620e-c067-4ead-a983-da32f52e8ff7"
   },
   "source": [
    "# The **To Read** Table"
   ]
  },
  {
   "cell_type": "markdown",
   "metadata": {
    "azdata_cell_guid": "cf69c5f4-f75b-490a-8ef7-ae524374b03d"
   },
   "source": [
    "QUESTION 1:  Create a query that uses the user\\_id to count the total number of books that each user wants to read.  Print the results in ascending order by user\\_id under the alias 'Total Books To Read'\n",
    "\n",
    "_Hint: You can use both GROUP BY and ORDER BY to complete this query._"
   ]
  },
  {
   "cell_type": "code",
   "execution_count": 31,
   "metadata": {
    "azdata_cell_guid": "25f8b89f-0a93-4cba-90d9-42f6b1cb1bf8"
   },
   "outputs": [
    {
     "data": {
      "text/html": [
       "Commands completed successfully."
      ]
     },
     "metadata": {},
     "output_type": "display_data"
    },
    {
     "data": {
      "text/html": [
       "Total execution time: 00:00:00.076"
      ]
     },
     "metadata": {},
     "output_type": "display_data"
    }
   ],
   "source": [
    "-- Code Here:\n"
   ]
  },
  {
   "cell_type": "markdown",
   "metadata": {
    "azdata_cell_guid": "a0f56064-89d6-4ab3-aef4-693d831319a6"
   },
   "source": [
    "QUESTION 2: Create a query that uses user\\_id to count the total number of books each user wants to read.  Have the results sort the table by the total number of book\\_ids in descending order and under the alias 'Total Books To Read'.\n",
    "\n",
    "_Hint: You can use both GROUP BY and ORDER BY to complete this query._"
   ]
  },
  {
   "cell_type": "code",
   "execution_count": 32,
   "metadata": {
    "azdata_cell_guid": "1bc33f3b-de96-411d-aabf-f0dd01c8a92e"
   },
   "outputs": [
    {
     "data": {
      "text/html": [
       "Commands completed successfully."
      ]
     },
     "metadata": {},
     "output_type": "display_data"
    },
    {
     "data": {
      "text/html": [
       "Total execution time: 00:00:00.057"
      ]
     },
     "metadata": {},
     "output_type": "display_data"
    }
   ],
   "source": [
    "-- Code Here:\n"
   ]
  }
 ],
 "metadata": {
  "extensions": {
   "azuredatastudio": {
    "version": 1,
    "views": []
   }
  },
  "kernelspec": {
   "display_name": "Python 3 (ipykernel)",
   "language": "python",
   "name": "python3"
  },
  "language_info": {
   "codemirror_mode": {
    "name": "ipython",
    "version": 3
   },
   "file_extension": ".py",
   "mimetype": "text/x-python",
   "name": "python",
   "nbconvert_exporter": "python",
   "pygments_lexer": "ipython3",
   "version": "3.10.9"
  }
 },
 "nbformat": 4,
 "nbformat_minor": 2
}
